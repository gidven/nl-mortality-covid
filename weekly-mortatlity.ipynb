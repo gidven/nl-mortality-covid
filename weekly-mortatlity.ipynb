{
 "cells": [
  {
   "cell_type": "markdown",
   "metadata": {},
   "source": [
    "# Mortality Rates in the Netherlands\n",
    "\n",
    "> Last updated April 5, 2020\n",
    "\n",
    "Source data:\n",
    "- [Weekly mortatlity figures](https://opendata.cbs.nl/statline/portal.html?_la=nl&_catalog=CBS&tableId=70895ned&_theme=75)\n",
    "- [Montly population figures](https://opendata.cbs.nl/statline/portal.html?_la=nl&_catalog=CBS&tableId=37943ned&_theme=62)\n",
    "\n",
    "Entry for mortality week 13 2020 added manually based on latest reports, which was not reflected in source data at time of writing ([see here](https://www.cbs.nl/en-gb/faq/corona/medisch/how-many-deaths-are-registered-per-week-)).\n",
    "\n"
   ]
  },
  {
   "cell_type": "code",
   "execution_count": 1,
   "metadata": {},
   "outputs": [],
   "source": [
    "import pandas as pd"
   ]
  },
  {
   "cell_type": "code",
   "execution_count": 2,
   "metadata": {},
   "outputs": [],
   "source": [
    "deceased = pd.read_csv(\n",
    "    'deceaseddata20200405.csv',\n",
    "    sep=';',\n",
    "    names=['id', 'sex', 'age', 'per', 'd'],\n",
    "    skiprows=1,  # skip header\n",
    "    dtype={'id':int,'sex':int,'age':int,'per':str,'d':int}\n",
    ")"
   ]
  },
  {
   "cell_type": "code",
   "execution_count": 3,
   "metadata": {},
   "outputs": [],
   "source": [
    "period_filters = (\n",
    "    ~deceased.per.str.contains('X0') &  # remove incomplete first weeks of year\n",
    "    ~deceased.per.str.contains('W101') &  # remove first weeks of year that could start in prev year\n",
    "    ~deceased.per.str.contains('W152') &  # remove incomplete last week of year\n",
    "    ~deceased.per.str.contains('W153') &  # remove incomplete last week of year (in 2011)\n",
    "    ~deceased.per.str.contains('JJ')  # remove full year data contained in series\n",
    ")"
   ]
  },
  {
   "cell_type": "code",
   "execution_count": 4,
   "metadata": {},
   "outputs": [],
   "source": [
    "deceased = deceased[period_filters]"
   ]
  },
  {
   "cell_type": "code",
   "execution_count": 5,
   "metadata": {},
   "outputs": [],
   "source": [
    "deceased['dt'] = pd.to_datetime(deceased.per + str(1), format='%GW1%V%u')"
   ]
  },
  {
   "cell_type": "code",
   "execution_count": 6,
   "metadata": {},
   "outputs": [
    {
     "data": {
      "text/plain": [
       "True"
      ]
     },
     "execution_count": 6,
     "metadata": {},
     "output_type": "execute_result"
    }
   ],
   "source": [
    "# confirm the only date format that remains is in W-format (weeks)\n",
    "sum(deceased.per.str.contains('W')) == len(deceased.per.str.contains('W'))"
   ]
  },
  {
   "cell_type": "code",
   "execution_count": 7,
   "metadata": {},
   "outputs": [
    {
     "data": {
      "text/plain": [
       "True"
      ]
     },
     "execution_count": 7,
     "metadata": {},
     "output_type": "execute_result"
    }
   ],
   "source": [
    "# confirm that the inferred year matches the year in the period column\n",
    "[int(year) for year in deceased.per.str[:4].tolist()] == pd.DatetimeIndex(deceased['dt']).year.tolist()"
   ]
  },
  {
   "cell_type": "code",
   "execution_count": 8,
   "metadata": {},
   "outputs": [],
   "source": [
    "# keep only broad demographics (all genders and ages)\n",
    "all_genders = deceased['sex']==1100\n",
    "all_ages = deceased['age']==10000\n",
    "\n",
    "demo_filters = all_genders & all_ages"
   ]
  },
  {
   "cell_type": "code",
   "execution_count": 9,
   "metadata": {},
   "outputs": [],
   "source": [
    "deceased = deceased[demo_filters]"
   ]
  },
  {
   "cell_type": "code",
   "execution_count": 10,
   "metadata": {},
   "outputs": [],
   "source": [
    "# cleanup columns\n",
    "deceased = deceased.drop(['id','sex','age','per'], axis=1)"
   ]
  },
  {
   "cell_type": "code",
   "execution_count": 11,
   "metadata": {},
   "outputs": [
    {
     "data": {
      "text/plain": [
       "<matplotlib.axes._subplots.AxesSubplot at 0x1163e9160>"
      ]
     },
     "execution_count": 11,
     "metadata": {},
     "output_type": "execute_result"
    },
    {
     "data": {
      "image/png": "[encoded data removed]",
      "text/plain": [
       "<Figure size 432x288 with 1 Axes>"
      ]
     },
     "metadata": {
      "needs_background": "light"
     },
     "output_type": "display_data"
    }
   ],
   "source": [
    "# quick plot show no spikes other than expected yearly seasonality\n",
    "deceased.plot(x='dt')"
   ]
  },
  {
   "cell_type": "code",
   "execution_count": 12,
   "metadata": {},
   "outputs": [],
   "source": [
    "pop = pd.read_csv(\n",
    "    'populationdata20200405.csv',\n",
    "    sep=';',\n",
    "    usecols=[1, 2],\n",
    "    names=['per', 'pop'],\n",
    "    skiprows=1,  # skip header\n",
    "    dtype={'per':str,'pop':int}\n",
    ")"
   ]
  },
  {
   "cell_type": "code",
   "execution_count": 13,
   "metadata": {},
   "outputs": [],
   "source": [
    "year_filters = (\n",
    "    ~pop.per.str.contains('JJ')  # remove full year from series\n",
    ")"
   ]
  },
  {
   "cell_type": "code",
   "execution_count": 14,
   "metadata": {},
   "outputs": [],
   "source": [
    "pop = pop[year_filters]"
   ]
  },
  {
   "cell_type": "code",
   "execution_count": 15,
   "metadata": {},
   "outputs": [],
   "source": [
    "pop['dt'] = pd.to_datetime(pop.per, format='%YMM%m')"
   ]
  },
  {
   "cell_type": "code",
   "execution_count": 16,
   "metadata": {},
   "outputs": [],
   "source": [
    "pop = pop.drop('per', axis=1)"
   ]
  },
  {
   "cell_type": "code",
   "execution_count": 17,
   "metadata": {},
   "outputs": [
    {
     "data": {
      "text/plain": [
       "<matplotlib.axes._subplots.AxesSubplot at 0x116551cf8>"
      ]
     },
     "execution_count": 17,
     "metadata": {},
     "output_type": "execute_result"
    },
    {
     "data": {
      "image/png": "[encoded data removed]",
      "text/plain": [
       "<Figure size 432x288 with 1 Axes>"
      ]
     },
     "metadata": {
      "needs_background": "light"
     },
     "output_type": "display_data"
    }
   ],
   "source": [
    "# quick plot to confirm data - population grew from roughly 15 to >17 million in time period\n",
    "pop.plot(x='dt')"
   ]
  },
  {
   "cell_type": "code",
   "execution_count": 18,
   "metadata": {},
   "outputs": [
    {
     "data": {
      "text/html": [
       "<div>\n",
       "<style scoped>\n",
       "    .dataframe tbody tr th:only-of-type {\n",
       "        vertical-align: middle;\n",
       "    }\n",
       "\n",
       "    .dataframe tbody tr th {\n",
       "        vertical-align: top;\n",
       "    }\n",
       "\n",
       "    .dataframe thead th {\n",
       "        text-align: right;\n",
       "    }\n",
       "</style>\n",
       "<table border=\"1\" class=\"dataframe\">\n",
       "  <thead>\n",
       "    <tr style=\"text-align: right;\">\n",
       "      <th></th>\n",
       "      <th>pop</th>\n",
       "      <th>dt</th>\n",
       "    </tr>\n",
       "  </thead>\n",
       "  <tbody>\n",
       "    <tr>\n",
       "      <th>0</th>\n",
       "      <td>15424122</td>\n",
       "      <td>1995-01-01</td>\n",
       "    </tr>\n",
       "    <tr>\n",
       "      <th>1</th>\n",
       "      <td>15430178</td>\n",
       "      <td>1995-02-01</td>\n",
       "    </tr>\n",
       "    <tr>\n",
       "      <th>2</th>\n",
       "      <td>15436176</td>\n",
       "      <td>1995-03-01</td>\n",
       "    </tr>\n",
       "    <tr>\n",
       "      <th>3</th>\n",
       "      <td>15441920</td>\n",
       "      <td>1995-04-01</td>\n",
       "    </tr>\n",
       "    <tr>\n",
       "      <th>4</th>\n",
       "      <td>15446212</td>\n",
       "      <td>1995-05-01</td>\n",
       "    </tr>\n",
       "  </tbody>\n",
       "</table>\n",
       "</div>"
      ],
      "text/plain": [
       "        pop         dt\n",
       "0  15424122 1995-01-01\n",
       "1  15430178 1995-02-01\n",
       "2  15436176 1995-03-01\n",
       "3  15441920 1995-04-01\n",
       "4  15446212 1995-05-01"
      ]
     },
     "execution_count": 18,
     "metadata": {},
     "output_type": "execute_result"
    }
   ],
   "source": [
    "pop.head()"
   ]
  },
  {
   "cell_type": "code",
   "execution_count": 19,
   "metadata": {},
   "outputs": [],
   "source": [
    "# merge on month grouper (population data is not available at weekly granularity)\n",
    "merged = pd.merge(\n",
    "    deceased.assign(grouper=deceased['dt'].dt.to_period('M')),\n",
    "    pop.assign(grouper=pop['dt'].dt.to_period('M')),\n",
    "    how='left',\n",
    "    on='grouper'\n",
    ")"
   ]
  },
  {
   "cell_type": "code",
   "execution_count": 20,
   "metadata": {},
   "outputs": [],
   "source": [
    "# cleanup columns\n",
    "merged = merged.drop(['grouper', 'dt_y'], axis=1).fillna(method='ffill')"
   ]
  },
  {
   "cell_type": "code",
   "execution_count": 21,
   "metadata": {},
   "outputs": [],
   "source": [
    "# compute mortality rate (typically reported as deaths per 1000)\n",
    "merged['mrate'] = merged['d'] / merged['pop'] * 1000"
   ]
  },
  {
   "cell_type": "code",
   "execution_count": 22,
   "metadata": {},
   "outputs": [
    {
     "data": {
      "text/plain": [
       "<matplotlib.axes._subplots.AxesSubplot at 0x1167a9dd8>"
      ]
     },
     "execution_count": 22,
     "metadata": {},
     "output_type": "execute_result"
    },
    {
     "data": {
      "image/png": "[encoded data removed]",
      "text/plain": [
       "<Figure size 432x288 with 1 Axes>"
      ]
     },
     "metadata": {
      "needs_background": "light"
     },
     "output_type": "display_data"
    }
   ],
   "source": [
    "# quick plot to confirm data is properly scaled\n",
    "merged.plot(x='dt_x', y='mrate')"
   ]
  },
  {
   "cell_type": "code",
   "execution_count": 23,
   "metadata": {},
   "outputs": [],
   "source": [
    "# create week and year columns for plot data\n",
    "merged['week'] = merged.dt_x.dt.week\n",
    "merged['year'] = merged.dt_x.dt.year"
   ]
  },
  {
   "cell_type": "code",
   "execution_count": 24,
   "metadata": {},
   "outputs": [],
   "source": [
    "plotdata = merged.pivot(index='week',columns='year',values='mrate')"
   ]
  },
  {
   "cell_type": "code",
   "execution_count": 25,
   "metadata": {},
   "outputs": [],
   "source": [
    "# convert to string headers as integers break pandas/bokeh\n",
    "plotdata.columns = [str(header) for header in plotdata.columns.tolist()]"
   ]
  },
  {
   "cell_type": "code",
   "execution_count": 26,
   "metadata": {
    "scrolled": true
   },
   "outputs": [],
   "source": [
    "plotdata['mn'] = plotdata.iloc[:,:-1].mean(axis=1)  # calculate means for 1995-2019"
   ]
  },
  {
   "cell_type": "code",
   "execution_count": 27,
   "metadata": {},
   "outputs": [],
   "source": [
    "plotdata['s'] = plotdata.iloc[:,:-2].std(axis=1)  # calculate standard deviations for 1995-2019"
   ]
  },
  {
   "cell_type": "code",
   "execution_count": 28,
   "metadata": {},
   "outputs": [],
   "source": [
    "plotdata['upper'] = plotdata['mn'] + 2 * plotdata['s']  # upper 2-sigma CI level"
   ]
  },
  {
   "cell_type": "code",
   "execution_count": 29,
   "metadata": {},
   "outputs": [],
   "source": [
    "plotdata['lower'] = plotdata['mn'] - 2 * plotdata['s']  # lower 2-sigma CI level"
   ]
  },
  {
   "cell_type": "code",
   "execution_count": 30,
   "metadata": {},
   "outputs": [],
   "source": [
    "plotdata = plotdata.drop('s', axis=1)  # remove standard deviation from plotdata"
   ]
  },
  {
   "cell_type": "code",
   "execution_count": 31,
   "metadata": {},
   "outputs": [
    {
     "data": {
      "text/html": [
       "<div>\n",
       "<style scoped>\n",
       "    .dataframe tbody tr th:only-of-type {\n",
       "        vertical-align: middle;\n",
       "    }\n",
       "\n",
       "    .dataframe tbody tr th {\n",
       "        vertical-align: top;\n",
       "    }\n",
       "\n",
       "    .dataframe thead th {\n",
       "        text-align: right;\n",
       "    }\n",
       "</style>\n",
       "<table border=\"1\" class=\"dataframe\">\n",
       "  <thead>\n",
       "    <tr style=\"text-align: right;\">\n",
       "      <th></th>\n",
       "      <th>1995</th>\n",
       "      <th>1996</th>\n",
       "      <th>1997</th>\n",
       "      <th>1998</th>\n",
       "      <th>1999</th>\n",
       "      <th>2000</th>\n",
       "      <th>2001</th>\n",
       "      <th>2002</th>\n",
       "      <th>2003</th>\n",
       "      <th>2004</th>\n",
       "      <th>...</th>\n",
       "      <th>2014</th>\n",
       "      <th>2015</th>\n",
       "      <th>2016</th>\n",
       "      <th>2017</th>\n",
       "      <th>2018</th>\n",
       "      <th>2019</th>\n",
       "      <th>2020</th>\n",
       "      <th>mn</th>\n",
       "      <th>upper</th>\n",
       "      <th>lower</th>\n",
       "    </tr>\n",
       "    <tr>\n",
       "      <th>week</th>\n",
       "      <th></th>\n",
       "      <th></th>\n",
       "      <th></th>\n",
       "      <th></th>\n",
       "      <th></th>\n",
       "      <th></th>\n",
       "      <th></th>\n",
       "      <th></th>\n",
       "      <th></th>\n",
       "      <th></th>\n",
       "      <th></th>\n",
       "      <th></th>\n",
       "      <th></th>\n",
       "      <th></th>\n",
       "      <th></th>\n",
       "      <th></th>\n",
       "      <th></th>\n",
       "      <th></th>\n",
       "      <th></th>\n",
       "      <th></th>\n",
       "      <th></th>\n",
       "    </tr>\n",
       "  </thead>\n",
       "  <tbody>\n",
       "    <tr>\n",
       "      <th>2</th>\n",
       "      <td>0.183025</td>\n",
       "      <td>0.210212</td>\n",
       "      <td>0.211343</td>\n",
       "      <td>0.163407</td>\n",
       "      <td>0.190670</td>\n",
       "      <td>0.216718</td>\n",
       "      <td>0.178394</td>\n",
       "      <td>0.195278</td>\n",
       "      <td>0.184467</td>\n",
       "      <td>0.205006</td>\n",
       "      <td>...</td>\n",
       "      <td>0.167506</td>\n",
       "      <td>0.202891</td>\n",
       "      <td>0.181105</td>\n",
       "      <td>0.212920</td>\n",
       "      <td>0.195506</td>\n",
       "      <td>0.188750</td>\n",
       "      <td>0.193238</td>\n",
       "      <td>0.186950</td>\n",
       "      <td>0.219111</td>\n",
       "      <td>0.154789</td>\n",
       "    </tr>\n",
       "    <tr>\n",
       "      <th>3</th>\n",
       "      <td>0.169151</td>\n",
       "      <td>0.191688</td>\n",
       "      <td>0.208709</td>\n",
       "      <td>0.154463</td>\n",
       "      <td>0.185150</td>\n",
       "      <td>0.208460</td>\n",
       "      <td>0.181834</td>\n",
       "      <td>0.188261</td>\n",
       "      <td>0.184097</td>\n",
       "      <td>0.187907</td>\n",
       "      <td>...</td>\n",
       "      <td>0.162811</td>\n",
       "      <td>0.199814</td>\n",
       "      <td>0.180339</td>\n",
       "      <td>0.204139</td>\n",
       "      <td>0.195797</td>\n",
       "      <td>0.182269</td>\n",
       "      <td>0.181003</td>\n",
       "      <td>0.182160</td>\n",
       "      <td>0.213713</td>\n",
       "      <td>0.150607</td>\n",
       "    </tr>\n",
       "    <tr>\n",
       "      <th>4</th>\n",
       "      <td>0.172716</td>\n",
       "      <td>0.184266</td>\n",
       "      <td>0.204598</td>\n",
       "      <td>0.161618</td>\n",
       "      <td>0.181850</td>\n",
       "      <td>0.201904</td>\n",
       "      <td>0.189591</td>\n",
       "      <td>0.191179</td>\n",
       "      <td>0.182985</td>\n",
       "      <td>0.179665</td>\n",
       "      <td>...</td>\n",
       "      <td>0.161029</td>\n",
       "      <td>0.198394</td>\n",
       "      <td>0.188526</td>\n",
       "      <td>0.212276</td>\n",
       "      <td>0.193352</td>\n",
       "      <td>0.183889</td>\n",
       "      <td>0.174627</td>\n",
       "      <td>0.181485</td>\n",
       "      <td>0.211036</td>\n",
       "      <td>0.151934</td>\n",
       "    </tr>\n",
       "    <tr>\n",
       "      <th>5</th>\n",
       "      <td>0.167076</td>\n",
       "      <td>0.193108</td>\n",
       "      <td>0.196633</td>\n",
       "      <td>0.171903</td>\n",
       "      <td>0.188499</td>\n",
       "      <td>0.187028</td>\n",
       "      <td>0.183148</td>\n",
       "      <td>0.182425</td>\n",
       "      <td>0.174216</td>\n",
       "      <td>0.178804</td>\n",
       "      <td>...</td>\n",
       "      <td>0.160910</td>\n",
       "      <td>0.196560</td>\n",
       "      <td>0.182705</td>\n",
       "      <td>0.209232</td>\n",
       "      <td>0.198067</td>\n",
       "      <td>0.181864</td>\n",
       "      <td>0.181347</td>\n",
       "      <td>0.180930</td>\n",
       "      <td>0.206025</td>\n",
       "      <td>0.155834</td>\n",
       "    </tr>\n",
       "    <tr>\n",
       "      <th>6</th>\n",
       "      <td>0.164353</td>\n",
       "      <td>0.199325</td>\n",
       "      <td>0.193424</td>\n",
       "      <td>0.166948</td>\n",
       "      <td>0.196934</td>\n",
       "      <td>0.178643</td>\n",
       "      <td>0.178867</td>\n",
       "      <td>0.177435</td>\n",
       "      <td>0.169468</td>\n",
       "      <td>0.169195</td>\n",
       "      <td>...</td>\n",
       "      <td>0.169598</td>\n",
       "      <td>0.193578</td>\n",
       "      <td>0.178760</td>\n",
       "      <td>0.201712</td>\n",
       "      <td>0.204417</td>\n",
       "      <td>0.184209</td>\n",
       "      <td>0.183005</td>\n",
       "      <td>0.180184</td>\n",
       "      <td>0.206268</td>\n",
       "      <td>0.154100</td>\n",
       "    </tr>\n",
       "  </tbody>\n",
       "</table>\n",
       "<p>5 rows × 29 columns</p>\n",
       "</div>"
      ],
      "text/plain": [
       "          1995      1996      1997      1998      1999      2000      2001  \\\n",
       "week                                                                         \n",
       "2     0.183025  0.210212  0.211343  0.163407  0.190670  0.216718  0.178394   \n",
       "3     0.169151  0.191688  0.208709  0.154463  0.185150  0.208460  0.181834   \n",
       "4     0.172716  0.184266  0.204598  0.161618  0.181850  0.201904  0.189591   \n",
       "5     0.167076  0.193108  0.196633  0.171903  0.188499  0.187028  0.183148   \n",
       "6     0.164353  0.199325  0.193424  0.166948  0.196934  0.178643  0.178867   \n",
       "\n",
       "          2002      2003      2004  ...      2014      2015      2016  \\\n",
       "week                                ...                                 \n",
       "2     0.195278  0.184467  0.205006  ...  0.167506  0.202891  0.181105   \n",
       "3     0.188261  0.184097  0.187907  ...  0.162811  0.199814  0.180339   \n",
       "4     0.191179  0.182985  0.179665  ...  0.161029  0.198394  0.188526   \n",
       "5     0.182425  0.174216  0.178804  ...  0.160910  0.196560  0.182705   \n",
       "6     0.177435  0.169468  0.169195  ...  0.169598  0.193578  0.178760   \n",
       "\n",
       "          2017      2018      2019      2020        mn     upper     lower  \n",
       "week                                                                        \n",
       "2     0.212920  0.195506  0.188750  0.193238  0.186950  0.219111  0.154789  \n",
       "3     0.204139  0.195797  0.182269  0.181003  0.182160  0.213713  0.150607  \n",
       "4     0.212276  0.193352  0.183889  0.174627  0.181485  0.211036  0.151934  \n",
       "5     0.209232  0.198067  0.181864  0.181347  0.180930  0.206025  0.155834  \n",
       "6     0.201712  0.204417  0.184209  0.183005  0.180184  0.206268  0.154100  \n",
       "\n",
       "[5 rows x 29 columns]"
      ]
     },
     "execution_count": 31,
     "metadata": {},
     "output_type": "execute_result"
    }
   ],
   "source": [
    "# sanity check\n",
    "plotdata.head()"
   ]
  },
  {
   "cell_type": "code",
   "execution_count": 32,
   "metadata": {},
   "outputs": [],
   "source": [
    "from bokeh.plotting import figure, output_file, save\n",
    "from bokeh.models import Span, Label, Title"
   ]
  },
  {
   "cell_type": "code",
   "execution_count": null,
   "metadata": {},
   "outputs": [],
   "source": [
    "output_file('mortality.html', title='Mortality Rate in the Netherlands')\n",
    "\n",
    "cols=len(plotdata.columns)\n",
    "\n",
    "fig = figure(\n",
    "    tools='pan,wheel_zoom,box_zoom,save,reset',\n",
    "    x_axis_label='Week Number',\n",
    "    x_minor_ticks=10,\n",
    "    x_range=[1,52],\n",
    "    y_axis_label='Mortality Rate (per 1000 citizens)',\n",
    "    plot_width=1000,\n",
    "    plot_height=600,\n",
    "    toolbar_location='above'\n",
    ")\n",
    "\n",
    "fig.title.text = 'Weekly Mortality Rate in the Netherlands 1995-2020'\n",
    "fig.title.align = 'center'\n",
    "fig.title.text_font_size = '25px'\n",
    "\n",
    "first_case = Span(\n",
    "    location=9,\n",
    "    dimension='height',\n",
    "    line_color='red',\n",
    "    line_dash='dashed',\n",
    "    line_width=1.5,\n",
    "    line_alpha=0.5\n",
    ")\n",
    "\n",
    "fig.add_layout(first_case)\n",
    "\n",
    "fig.add_layout(\n",
    "    Title(\n",
    "        text='Source: Statistics Netherlands (2020). Preliminary data for 2019 and 2020.', \n",
    "        align='left',\n",
    "        text_font_size='12px'\n",
    "    ),\n",
    "    'below'\n",
    ")\n",
    "\n",
    "case_label = Label(\n",
    "    x=2.3,\n",
    "    y=0.241,\n",
    "    text='First reported case',\n",
    "    render_mode='css',\n",
    "    text_font_size='14px'\n",
    ")\n",
    "\n",
    "fig.add_layout(case_label)\n",
    "\n",
    "for i in range(cols-6):  # add all historic years\n",
    "    fig.line(\n",
    "        x=plotdata.index,\n",
    "        y=plotdata.iloc[:,i],\n",
    "        line_color='grey',\n",
    "        line_alpha=0.15,\n",
    "        line_width=1\n",
    "    )\n",
    "\n",
    "fig.line(\n",
    "    x=plotdata.index,\n",
    "    y=plotdata['2019'],\n",
    "    line_color='grey',\n",
    "    line_alpha=0.15,\n",
    "    line_width=1\n",
    ")\n",
    "\n",
    "\n",
    "fig.line(\n",
    "    x=plotdata.index,\n",
    "    y=plotdata.mn,\n",
    "    line_color='black',\n",
    "    line_alpha=0.5,\n",
    "    line_width=1.5,\n",
    "    legend_label='Average (1995-2019)'\n",
    ")\n",
    "\n",
    "fig.line(\n",
    "    x=plotdata.index,\n",
    "    y=plotdata.upper,\n",
    "    line_color='black',\n",
    "    line_alpha=0.5,\n",
    "    line_width=1.5,\n",
    "    line_dash='dotted',\n",
    "    legend_label='95% CI (1995-2019)'\n",
    ")\n",
    "\n",
    "fig.line(\n",
    "    x=plotdata.index,\n",
    "    y=plotdata.lower,\n",
    "    line_color='black',\n",
    "    line_alpha=0.5,\n",
    "    line_width=1.5,\n",
    "    line_dash='dotted'\n",
    ")\n",
    "\n",
    "\n",
    "fig.line(\n",
    "    x=plotdata.index,\n",
    "    y=plotdata['2018'],\n",
    "    line_color='blue',\n",
    "    line_alpha=1,\n",
    "    line_width=1.5,\n",
    "    legend_label='2018 (influenza epidemic)'\n",
    ")\n",
    "\n",
    "fig.line(\n",
    "    x=plotdata.index,\n",
    "    y=plotdata['2020'],\n",
    "    line_color='red',\n",
    "    line_alpha=1,\n",
    "    line_width=3,\n",
    "    legend_label='2020 (COVID-19 outbreak)'\n",
    ")\n",
    "\n",
    "save(fig)"
   ]
  }
 ],
 "metadata": {
  "kernelspec": {
   "display_name": "Python 3",
   "language": "python",
   "name": "python3"
  },
  "language_info": {
   "codemirror_mode": {
    "name": "ipython",
    "version": 3
   },
   "file_extension": ".py",
   "mimetype": "text/x-python",
   "name": "python",
   "nbconvert_exporter": "python",
   "pygments_lexer": "ipython3",
   "version": "3.7.3"
  }
 },
 "nbformat": 4,
 "nbformat_minor": 4
}
