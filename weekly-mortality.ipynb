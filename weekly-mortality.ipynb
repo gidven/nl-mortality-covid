{
 "cells": [
  {
   "cell_type": "markdown",
   "metadata": {},
   "source": [
    "# Mortality Rates in the Netherlands\n",
    "\n",
    "> Last updated April 18, 2020\n",
    "\n",
    "Source data:\n",
    "- [Weekly mortatlity figures](https://opendata.cbs.nl/statline/portal.html?_la=nl&_catalog=CBS&tableId=70895ned&_theme=75)\n",
    "- [Montly population figures](https://opendata.cbs.nl/statline/portal.html?_la=nl&_catalog=CBS&tableId=37943ned&_theme=62)\n",
    "- [Daily COVID-19 deaths](https://www.rivm.nl/coronavirus-covid-19/grafieken)\n",
    "\n",
    "Entry for mortality week 15 2020 added manually based on latest reports, which was not reflected in source data at time of writing ([see here](https://www.cbs.nl/en-gb/news/2020/16/mortality-in-second-week-of-april-estimated-at-5-000)).\n",
    "\n"
   ]
  },
  {
   "cell_type": "code",
   "execution_count": null,
   "metadata": {},
   "outputs": [],
   "source": [
    "import pandas as pd"
   ]
  },
  {
   "cell_type": "code",
   "execution_count": null,
   "metadata": {},
   "outputs": [],
   "source": [
    "deceased = pd.read_csv(\n",
    "    'deceaseddata20200418.csv',\n",
    "    sep=';',\n",
    "    names=['id', 'sex', 'age', 'per', 'd'],\n",
    "    skiprows=1,  # skip header\n",
    "    dtype={'id':int,'sex':int,'age':int,'per':str,'d':int}\n",
    ")"
   ]
  },
  {
   "cell_type": "code",
   "execution_count": null,
   "metadata": {},
   "outputs": [],
   "source": [
    "period_filters = (\n",
    "    ~deceased.per.str.contains('X0') &  # remove incomplete first weeks of year\n",
    "    ~deceased.per.str.contains('W101') &  # remove first weeks of year that could start in prev year\n",
    "    ~deceased.per.str.contains('W152') &  # remove incomplete last week of year\n",
    "    ~deceased.per.str.contains('W153') &  # remove incomplete last week of year (in 2011)\n",
    "    ~deceased.per.str.contains('JJ')  # remove full year data contained in series\n",
    ")"
   ]
  },
  {
   "cell_type": "code",
   "execution_count": null,
   "metadata": {},
   "outputs": [],
   "source": [
    "deceased = deceased[period_filters]"
   ]
  },
  {
   "cell_type": "code",
   "execution_count": null,
   "metadata": {},
   "outputs": [],
   "source": [
    "deceased['dt'] = pd.to_datetime(deceased.per + str(1), format='%GW1%V%u')"
   ]
  },
  {
   "cell_type": "code",
   "execution_count": null,
   "metadata": {},
   "outputs": [],
   "source": [
    "# confirm the only date format that remains is in W-format (weeks)\n",
    "sum(deceased.per.str.contains('W')) == len(deceased.per.str.contains('W'))"
   ]
  },
  {
   "cell_type": "code",
   "execution_count": null,
   "metadata": {},
   "outputs": [],
   "source": [
    "# confirm that the inferred year matches the year in the period column\n",
    "[int(year) for year in deceased.per.str[:4].tolist()] == pd.DatetimeIndex(deceased['dt']).year.tolist()"
   ]
  },
  {
   "cell_type": "code",
   "execution_count": null,
   "metadata": {},
   "outputs": [],
   "source": [
    "# keep only broad demographics (all genders and ages)\n",
    "all_genders = deceased['sex']==1100\n",
    "all_ages = deceased['age']==10000\n",
    "\n",
    "demo_filters = all_genders & all_ages"
   ]
  },
  {
   "cell_type": "code",
   "execution_count": null,
   "metadata": {},
   "outputs": [],
   "source": [
    "deceased = deceased[demo_filters]"
   ]
  },
  {
   "cell_type": "code",
   "execution_count": null,
   "metadata": {},
   "outputs": [],
   "source": [
    "# cleanup columns\n",
    "deceased = deceased.drop(['id','sex','age','per'], axis=1)"
   ]
  },
  {
   "cell_type": "code",
   "execution_count": null,
   "metadata": {},
   "outputs": [],
   "source": [
    "# quick plot show no spikes other than expected yearly seasonality\n",
    "deceased.plot(x='dt')"
   ]
  },
  {
   "cell_type": "code",
   "execution_count": null,
   "metadata": {},
   "outputs": [],
   "source": [
    "pop = pd.read_csv(\n",
    "    'populationdata20200418.csv',\n",
    "    sep=';',\n",
    "    usecols=[1, 9],\n",
    "    names=['per', 'pop'],\n",
    "    skiprows=1,  # skip header\n",
    "    dtype={'per':str,'pop':int}\n",
    ")"
   ]
  },
  {
   "cell_type": "code",
   "execution_count": null,
   "metadata": {},
   "outputs": [],
   "source": [
    "year_filters = (\n",
    "    ~pop.per.str.contains('JJ') &\n",
    "    ~pop.per.str.contains('KW')\n",
    ")"
   ]
  },
  {
   "cell_type": "code",
   "execution_count": null,
   "metadata": {},
   "outputs": [],
   "source": [
    "pop = pop[year_filters]"
   ]
  },
  {
   "cell_type": "code",
   "execution_count": null,
   "metadata": {},
   "outputs": [],
   "source": [
    "pop['dt'] = pd.to_datetime(pop.per, format='%YMM%m')"
   ]
  },
  {
   "cell_type": "code",
   "execution_count": null,
   "metadata": {},
   "outputs": [],
   "source": [
    "pop = pop.drop('per', axis=1)"
   ]
  },
  {
   "cell_type": "code",
   "execution_count": null,
   "metadata": {},
   "outputs": [],
   "source": [
    "# quick plot to confirm data - population grew from roughly 15 to >17 million in time period\n",
    "pop.plot(x='dt')"
   ]
  },
  {
   "cell_type": "code",
   "execution_count": null,
   "metadata": {},
   "outputs": [],
   "source": [
    "pop.head()"
   ]
  },
  {
   "cell_type": "code",
   "execution_count": null,
   "metadata": {},
   "outputs": [],
   "source": [
    "# merge on month grouper (population data is not available at weekly granularity)\n",
    "merged = pd.merge(\n",
    "    deceased.assign(grouper=deceased['dt'].dt.to_period('M')),\n",
    "    pop.assign(grouper=pop['dt'].dt.to_period('M')),\n",
    "    how='left',\n",
    "    on='grouper'\n",
    ")"
   ]
  },
  {
   "cell_type": "code",
   "execution_count": null,
   "metadata": {},
   "outputs": [],
   "source": [
    "# cleanup columns\n",
    "merged = merged.drop(['grouper', 'dt_y'], axis=1).fillna(method='ffill')"
   ]
  },
  {
   "cell_type": "code",
   "execution_count": null,
   "metadata": {},
   "outputs": [],
   "source": [
    "# compute mortality rate (typically reported as deaths per 1000)\n",
    "merged['mrate'] = merged['d'] / merged['pop'] * 1000"
   ]
  },
  {
   "cell_type": "code",
   "execution_count": null,
   "metadata": {},
   "outputs": [],
   "source": [
    "# quick plot to confirm data is properly scaled\n",
    "merged.plot(x='dt_x', y='mrate')"
   ]
  },
  {
   "cell_type": "code",
   "execution_count": null,
   "metadata": {},
   "outputs": [],
   "source": [
    "# last three available weeks\n",
    "merged[-3:]"
   ]
  },
  {
   "cell_type": "code",
   "execution_count": null,
   "metadata": {},
   "outputs": [],
   "source": [
    "# create week and year columns for plot data\n",
    "merged['week'] = merged.dt_x.dt.week\n",
    "merged['year'] = merged.dt_x.dt.year"
   ]
  },
  {
   "cell_type": "code",
   "execution_count": null,
   "metadata": {},
   "outputs": [],
   "source": [
    "plotdata = merged.pivot(index='week',columns='year',values='mrate')"
   ]
  },
  {
   "cell_type": "code",
   "execution_count": null,
   "metadata": {},
   "outputs": [],
   "source": [
    "# convert to string headers as integers break pandas/bokeh\n",
    "plotdata.columns = [str(header) for header in plotdata.columns.tolist()]"
   ]
  },
  {
   "cell_type": "code",
   "execution_count": null,
   "metadata": {
    "scrolled": true
   },
   "outputs": [],
   "source": [
    "plotdata['mn'] = plotdata.iloc[:,:-1].mean(axis=1)  # calculate means for 1995-2019"
   ]
  },
  {
   "cell_type": "code",
   "execution_count": null,
   "metadata": {},
   "outputs": [],
   "source": [
    "plotdata['s'] = plotdata.iloc[:,:-2].std(axis=1)  # calculate standard deviations for 1995-2019"
   ]
  },
  {
   "cell_type": "code",
   "execution_count": null,
   "metadata": {},
   "outputs": [],
   "source": [
    "plotdata['upper'] = plotdata['mn'] + 2 * plotdata['s']  # upper 2-sigma CI level"
   ]
  },
  {
   "cell_type": "code",
   "execution_count": null,
   "metadata": {},
   "outputs": [],
   "source": [
    "plotdata['lower'] = plotdata['mn'] - 2 * plotdata['s']  # lower 2-sigma CI level"
   ]
  },
  {
   "cell_type": "code",
   "execution_count": null,
   "metadata": {},
   "outputs": [],
   "source": [
    "plotdata = plotdata.drop('s', axis=1)  # remove standard deviation from plotdata"
   ]
  },
  {
   "cell_type": "code",
   "execution_count": null,
   "metadata": {},
   "outputs": [],
   "source": [
    "# sanity check\n",
    "plotdata.head(3)"
   ]
  },
  {
   "cell_type": "code",
   "execution_count": null,
   "metadata": {},
   "outputs": [],
   "source": [
    "cd = pd.read_csv(\n",
    "    'coronadeaths20200418.csv',\n",
    "    sep=';',\n",
    "    names=['date', 'new', 'known'],\n",
    "    skiprows=1,\n",
    "    dtype={'date':str,'new':int,'known':int}\n",
    ")"
   ]
  },
  {
   "cell_type": "code",
   "execution_count": null,
   "metadata": {},
   "outputs": [],
   "source": [
    "cd.date = cd.date + ' 2020'"
   ]
  },
  {
   "cell_type": "code",
   "execution_count": null,
   "metadata": {},
   "outputs": [],
   "source": [
    "for i in range(len(cd.date.tolist())):\n",
    "    if cd.date[i][1] == ' ':\n",
    "        cd.date[i] = '0' + str(cd.date[i])\n",
    "    cd.date[i] = str(cd.date[i]).replace('feb', 'February')\n",
    "    cd.date[i] = str(cd.date[i]).replace('mrt', 'March')\n",
    "    cd.date[i] = str(cd.date[i]).replace('apr', 'April')"
   ]
  },
  {
   "cell_type": "code",
   "execution_count": null,
   "metadata": {},
   "outputs": [],
   "source": [
    "cd.index = pd.to_datetime(cd.date, format='%d %B %Y')"
   ]
  },
  {
   "cell_type": "code",
   "execution_count": null,
   "metadata": {},
   "outputs": [],
   "source": [
    "cdw = cd.resample('W').sum()"
   ]
  },
  {
   "cell_type": "code",
   "execution_count": null,
   "metadata": {},
   "outputs": [],
   "source": [
    "cdw['total'] = cdw.new + cdw.known"
   ]
  },
  {
   "cell_type": "code",
   "execution_count": null,
   "metadata": {},
   "outputs": [],
   "source": [
    "cdw"
   ]
  },
  {
   "cell_type": "code",
   "execution_count": null,
   "metadata": {},
   "outputs": [],
   "source": [
    "cdw.index = [i.isocalendar()[1] for i in cdw.index]\n",
    "cdw.index.name = 'week'"
   ]
  },
  {
   "cell_type": "code",
   "execution_count": null,
   "metadata": {},
   "outputs": [],
   "source": [
    "cdw"
   ]
  },
  {
   "cell_type": "code",
   "execution_count": null,
   "metadata": {},
   "outputs": [],
   "source": [
    "for i in cdw.index[1:7]:\n",
    "    plotdata.loc[i, 'coronadeaths'] = (cdw.loc[i, 'total'] / merged.loc[1262, 'pop'] * 1000) + plotdata.loc[i, 'mn']"
   ]
  },
  {
   "cell_type": "code",
   "execution_count": null,
   "metadata": {},
   "outputs": [],
   "source": [
    "plotdata.loc[15]"
   ]
  },
  {
   "cell_type": "code",
   "execution_count": null,
   "metadata": {},
   "outputs": [],
   "source": [
    "plotdata.head(25)"
   ]
  },
  {
   "cell_type": "code",
   "execution_count": null,
   "metadata": {},
   "outputs": [],
   "source": [
    "from bokeh.plotting import figure, output_file, save\n",
    "from bokeh.models import Span, Label, Title"
   ]
  },
  {
   "cell_type": "code",
   "execution_count": null,
   "metadata": {},
   "outputs": [],
   "source": [
    "output_file('mortality.html', title='Mortality Rate in the Netherlands')\n",
    "\n",
    "cols=len(plotdata.columns)\n",
    "\n",
    "fig = figure(\n",
    "    tools='pan,wheel_zoom,box_zoom,save,reset',\n",
    "    x_axis_label='Week Number',\n",
    "    x_minor_ticks=10,\n",
    "    x_range=[1,52],\n",
    "    y_range=[0.1,0.3],\n",
    "    y_axis_label='Mortality Rate (per 1000 citizens)',\n",
    "    plot_width=1000,\n",
    "    plot_height=600,\n",
    "    toolbar_location='above'\n",
    ")\n",
    "\n",
    "fig.title.text = 'Weekly Mortality Rate in the Netherlands 1995-2020'\n",
    "fig.title.align = 'center'\n",
    "fig.title.text_font_size = '25px'\n",
    "\n",
    "fig.add_layout(\n",
    "    Title(\n",
    "        text='Source: Statistics Netherlands (2020), RIVM (2020). Preliminary data for 2019 and 2020.', \n",
    "        align='left',\n",
    "        text_font_size='12px'\n",
    "    ),\n",
    "    'below'\n",
    ")\n",
    "\n",
    "\n",
    "fig.add_layout(Span(\n",
    "    location=9,\n",
    "    dimension='height',\n",
    "    line_color='red',\n",
    "    line_dash='dashed',\n",
    "    line_width=1.5,\n",
    "    line_alpha=0.5\n",
    "))\n",
    "\n",
    "fig.add_layout(Label(\n",
    "    x=1.5,\n",
    "    y=0.261,\n",
    "    text='First COVID-19 death',\n",
    "    render_mode='css',\n",
    "    text_font_size='14px'\n",
    "))\n",
    "\n",
    "for i in range(cols-6):  # add all historic years\n",
    "    fig.line(\n",
    "        x=plotdata.index,\n",
    "        y=plotdata.iloc[:,i],\n",
    "        line_color='grey',\n",
    "        line_alpha=0.15,\n",
    "        line_width=1\n",
    "    )\n",
    "\n",
    "fig.line(\n",
    "    x=plotdata.index,\n",
    "    y=plotdata['2019'],\n",
    "    line_color='grey',\n",
    "    line_alpha=0.15,\n",
    "    line_width=1\n",
    ")\n",
    "\n",
    "\n",
    "fig.line(\n",
    "    x=plotdata.index,\n",
    "    y=plotdata.mn,\n",
    "    line_color='black',\n",
    "    line_alpha=0.5,\n",
    "    line_width=1.5,\n",
    "    legend_label='Average (1995-2019)'\n",
    ")\n",
    "\n",
    "fig.line(\n",
    "    x=plotdata.index,\n",
    "    y=plotdata.upper,\n",
    "    line_color='black',\n",
    "    line_alpha=0.5,\n",
    "    line_width=1.5,\n",
    "    line_dash='dotted',\n",
    "    legend_label='95% CI (1995-2019)'\n",
    ")\n",
    "\n",
    "fig.line(\n",
    "    x=plotdata.index,\n",
    "    y=plotdata.lower,\n",
    "    line_color='black',\n",
    "    line_alpha=0.5,\n",
    "    line_width=1.5,\n",
    "    line_dash='dotted'\n",
    ")\n",
    "\n",
    "\n",
    "fig.line(\n",
    "    x=plotdata.index,\n",
    "    y=plotdata['2018'],\n",
    "    line_color='blue',\n",
    "    line_alpha=1,\n",
    "    line_width=1.5,\n",
    "    legend_label='2018 (influenza epidemic)'\n",
    ")\n",
    "\n",
    "fig.varea(\n",
    "    x=plotdata.index[8:],\n",
    "    y1=plotdata['coronadeaths'][8:],\n",
    "    y2=plotdata['2020'][8:],\n",
    "    fill_alpha=0.15,\n",
    "    fill_color='grey'\n",
    ")\n",
    "\n",
    "fig.line(\n",
    "    x=plotdata.index,\n",
    "    y=plotdata['2020'],\n",
    "    line_color='red',\n",
    "    line_alpha=1,\n",
    "    line_width=3,\n",
    "    legend_label='2020 (COVID-19 outbreak)'\n",
    ")\n",
    "\n",
    "fig.line(\n",
    "    x=plotdata.index,\n",
    "    y=plotdata['coronadeaths'],\n",
    "    line_color='orange',\n",
    "    line_alpha=1,\n",
    "    line_width=3,\n",
    "    line_dash='dashed',\n",
    "    legend_label='Avg + reported COVID-19 deaths (RIVM)'\n",
    ")\n",
    "\n",
    "fig.add_layout(Label(\n",
    "    x=16,\n",
    "    y=0.26,\n",
    "    text='Potential under-reported cases',\n",
    "    render_mode='css',\n",
    "    text_font_size='14px'\n",
    "))\n",
    "\n",
    "save(fig)"
   ]
  },
  {
   "cell_type": "code",
   "execution_count": null,
   "metadata": {},
   "outputs": [],
   "source": []
  }
 ],
 "metadata": {
  "kernelspec": {
   "display_name": "Python 3",
   "language": "python",
   "name": "python3"
  },
  "language_info": {
   "codemirror_mode": {
    "name": "ipython",
    "version": 3
   },
   "file_extension": ".py",
   "mimetype": "text/x-python",
   "name": "python",
   "nbconvert_exporter": "python",
   "pygments_lexer": "ipython3",
   "version": "3.7.3"
  }
 },
 "nbformat": 4,
 "nbformat_minor": 4
}
